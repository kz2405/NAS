{
 "cells": [
  {
   "cell_type": "markdown",
   "id": "b7481b84",
   "metadata": {},
   "source": [
    "## Import"
   ]
  },
  {
   "cell_type": "code",
   "execution_count": 1,
   "id": "fe5115a5",
   "metadata": {},
   "outputs": [],
   "source": [
    "import q_learner\n",
    "import state_string_utils as stringutils\n",
    "import state_enumerator as stateenum\n",
    "import NAS \n",
    "import netparser\n",
    "from tensorflow import keras\n",
    "import numpy as np\n",
    "import pandas as pd\n",
    "from tqdm import tqdm\n",
    "from dateutil.relativedelta import relativedelta\n",
    "from datetime import datetime\n",
    "import time\n",
    "import importlib\n",
    "import os\n",
    "from sklearn.model_selection import train_test_split"
   ]
  },
  {
   "cell_type": "markdown",
   "id": "c7479f6e",
   "metadata": {},
   "source": [
    "## Loading Data"
   ]
  },
  {
   "cell_type": "code",
   "execution_count": 2,
   "id": "db546748",
   "metadata": {},
   "outputs": [],
   "source": [
    "# Window length between features: number of days\n",
    "feat_window = 90\n",
    "\n",
    "# Window length between performance: number of years\n",
    "pm_window = 3\n",
    "lb_window = int(3 * pm_window * 365.25) + 1\n",
    "\n",
    "# Window length between training samples: number of days\n",
    "sample_window = 30\n",
    "\n",
    "# Test period start date\n",
    "test_start_date = '2020-06-30'\n",
    "\n",
    "# Filepath of dataset\n",
    "filepath = '/Users/kz_ke/Documents/Masters/Classes/DL/WM-SecuritySelection-main/data/MF_LargeCap_ExcessReturn_3Y.parquet'"
   ]
  },
  {
   "cell_type": "code",
   "execution_count": 3,
   "id": "7b49e722",
   "metadata": {},
   "outputs": [],
   "source": [
    "def prepare_data_for_er_ari(filepath, label_window=pm_window):\n",
    "    ''' Cleans data: \n",
    "            1.Dropping rows with missing value; \n",
    "            2.Dropping columns without data;\n",
    "            3.Removing columns with available data period shorter than pm_window\n",
    "        Then sets the data after the performance window as labels\n",
    "        Returns dictionary of cleaned data and dictionary of labels\n",
    "    '''\n",
    "    er_ari_df = pd.read_parquet(filepath)\n",
    "    \n",
    "\n",
    "    data_dict = {ticker: er_ari_df[ticker].dropna() for ticker in er_ari_df.columns}\n",
    "    tickers_to_remove = []\n",
    "    \n",
    "    label_dict = {}\n",
    "    for ticker, series in tqdm(data_dict.items()):\n",
    "        if series.isna().sum() == series.shape[0]:\n",
    "            tickers_to_remove += [ticker]\n",
    "            continue\n",
    "\n",
    "        last_date = series.index[-1] - relativedelta(years=pm_window)\n",
    "        if last_date <= series.index[0]:\n",
    "            tickers_to_remove.append(ticker)\n",
    "            continue\n",
    "\n",
    "        index = series.loc[:series.index[-1] - relativedelta(years=pm_window)].index\n",
    "        label_dict[ticker] = pd.Series([\n",
    "            series[date + relativedelta(years=pm_window)] for date in index\n",
    "        ], index=index)\n",
    "        \n",
    "    _ = [data_dict.pop(ticker) for ticker in tickers_to_remove]\n",
    "    \n",
    "    return data_dict, label_dict"
   ]
  },
  {
   "cell_type": "code",
   "execution_count": 4,
   "id": "ef0749db",
   "metadata": {},
   "outputs": [
    {
     "name": "stderr",
     "output_type": "stream",
     "text": [
      "100%|██████████████████████████████████████████████████████████████████████████████| 1330/1330 [03:53<00:00,  5.71it/s]"
     ]
    },
    {
     "name": "stdout",
     "output_type": "stream",
     "text": [
      "Wall time: 3min 55s\n"
     ]
    },
    {
     "name": "stderr",
     "output_type": "stream",
     "text": [
      "\n"
     ]
    }
   ],
   "source": [
    "%%time\n",
    "data_dict, label_dict = prepare_data_for_er_ari(filepath)"
   ]
  },
  {
   "cell_type": "code",
   "execution_count": 5,
   "id": "4ee096aa",
   "metadata": {},
   "outputs": [
    {
     "name": "stderr",
     "output_type": "stream",
     "text": [
      "100%|█████████████████████████████████████████████████████████████████████████████| 1130/1130 [00:09<00:00, 124.84it/s]"
     ]
    },
    {
     "name": "stdout",
     "output_type": "stream",
     "text": [
      "Wall time: 9.06 s\n"
     ]
    },
    {
     "name": "stderr",
     "output_type": "stream",
     "text": [
      "\n"
     ]
    }
   ],
   "source": [
    "'''Looping through the dictionary of data, lets the data before checkpoint to be training data and the forward to be testing data. \n",
    "Gets list of data and labels according to lb_window and feat_window. '''\n",
    "%%time\n",
    "\n",
    "tickers = list(data_dict.keys())\n",
    "\n",
    "train_data = []\n",
    "train_labels = []\n",
    "\n",
    "test_data = []\n",
    "test_labels = []\n",
    "\n",
    "# test start date\n",
    "checkpoint = datetime.strptime(test_start_date, '%Y-%m-%d') - relativedelta(years=pm_window)\n",
    "\n",
    "for ticker in tqdm(tickers):    \n",
    "    label = label_dict[ticker]\n",
    "    if label.shape[0] == 0:\n",
    "        continue\n",
    "    ts = data_dict[ticker].loc[:label.index[-1]]\n",
    "\n",
    "    indices = [np.arange(i, i+lb_window, feat_window) for i in range(0, ts.shape[0] - lb_window + 1, sample_window)]\n",
    "    \n",
    "    temp_data = np.array([ts.iloc[sub_indices].values for sub_indices in indices])\n",
    "    if temp_data.shape[0] == 0:\n",
    "        continue\n",
    "    temp_labels = np.array([label.loc[ts.index[sub_indices[-1]]] for sub_indices in indices])\n",
    "    \n",
    "    train_indices = [idx for idx in range(temp_data.shape[0]) if ts.index[indices[idx][-1]] <= checkpoint]\n",
    "    test_indices = [idx for idx in range(temp_data.shape[0]) if ts.index[indices[idx][-1]] > checkpoint]\n",
    "    \n",
    "    train_data += [temp_data[train_indices]] \n",
    "    train_labels += [temp_labels[train_indices]]\n",
    "    \n",
    "    test_data += [temp_data[test_indices]] \n",
    "    test_labels += [temp_labels[test_indices]]\n",
    "\n"
   ]
  },
  {
   "cell_type": "code",
   "execution_count": 6,
   "id": "51566c75",
   "metadata": {},
   "outputs": [],
   "source": [
    "def reshape_input_data(x=None, y=None):\n",
    "    '''A helper function that reshapes the input data if needed'''\n",
    "    if x is not None:\n",
    "        if len(x.shape) == 2:\n",
    "            x = x.reshape(-1, 1, x.shape[1])\n",
    "        elif len(x.shape) == 3:\n",
    "            x = x.reshape(-1, x.shape[2], x.shape[1])\n",
    "        else:\n",
    "            raise ValueError('Invalid x shape: {}'.format(x.shape))\n",
    "\n",
    "    if y is not None:\n",
    "        if len(y.shape) == 1:\n",
    "            y = y.reshape(-1, 1)\n",
    "        elif len(y.shape) == 2:\n",
    "            pass\n",
    "        else:\n",
    "            raise ValueError('Invalid y shape: {}'.format(y.shape))\n",
    "\n",
    "    if x is None and y is None:\n",
    "        return None\n",
    "    elif x is None and y is not None:\n",
    "        return y\n",
    "    elif x is not None and y is None:\n",
    "        return x\n",
    "    else:\n",
    "        return x, y"
   ]
  },
  {
   "cell_type": "code",
   "execution_count": 7,
   "id": "f8e21c7a",
   "metadata": {},
   "outputs": [
    {
     "name": "stdout",
     "output_type": "stream",
     "text": [
      "Wall time: 9.99 ms\n"
     ]
    }
   ],
   "source": [
    "'''\n",
    "Reshapes and gets x_train, x_test, y_train, y_test\n",
    "Then uses the first 90% of train data to be the actual training dataset, and the final 10% to be the validation dataset.\n",
    "'''\n",
    "%%time\n",
    "x_train = np.concatenate(train_data)[:, :, np.newaxis]\n",
    "y_train = np.concatenate(train_labels)[:, np.newaxis]\n",
    "x_test = np.concatenate(test_data)[:, :, np.newaxis]\n",
    "y_test = np.concatenate(test_labels)\n",
    "\n",
    "x_train, x_val, y_train, y_val = train_test_split(x_train, y_train, train_size=0.9)"
   ]
  },
  {
   "cell_type": "markdown",
   "id": "484d73a9",
   "metadata": {},
   "source": [
    "## Running NAS"
   ]
  },
  {
   "cell_type": "code",
   "execution_count": 11,
   "id": "6eab1a94",
   "metadata": {},
   "outputs": [],
   "source": [
    "'''Initialize directory'''\n",
    "path = '/Users/kz_ke/Documents/Masters/Classes/DL/AutoML3/mylogs'\n",
    "isExist = os.path.exists(path)\n",
    "if not isExist:\n",
    "    os.makedirs(path)\n",
    "    print(\"The new directory is created!\")"
   ]
  },
  {
   "cell_type": "code",
   "execution_count": 46,
   "id": "83eee0b6",
   "metadata": {},
   "outputs": [],
   "source": [
    "'''Import necessary parameters and the module that generates networks'''\n",
    "_model = __import__('models.AutoML',\n",
    "                    globals(),\n",
    "                    locals(),\n",
    "                    ['state_space_parameters', 'hyper_parameters'], \n",
    "                    0)\n",
    "\n",
    "factory = NAS.NAS('mylogs',\n",
    "                  _model.state_space_parameters,\n",
    "                  _model.hyper_parameters,\n",
    "                  1,\n",
    "                  0.5)"
   ]
  },
  {
   "cell_type": "code",
   "execution_count": 65,
   "id": "0ba7195b",
   "metadata": {},
   "outputs": [
    {
     "name": "stdout",
     "output_type": "stream",
     "text": [
      "[RNN(30,sigmoid), TERMINATE]\n",
      "1059/1059 [==============================] - 7s 6ms/step - loss: 0.0031 - root_mean_squared_error: 0.0560 - val_loss: 0.0012 - val_root_mean_squared_error: 0.0340\n",
      "328/328 [==============================] - 1s 3ms/step - loss: 0.0048 - root_mean_squared_error: 0.0695\n",
      "Incorporated net, acc: 0.069538, net: [RNN(30,sigmoid), TERMINATE]\n",
      "[LSTM(30,sigmoid), D(0.300000), LSTM(20,leaky_relu), FC(30, tanh), D(0.400000), TERMINATE]\n",
      "1059/1059 [==============================] - 50s 46ms/step - loss: 0.0208 - root_mean_squared_error: 0.1441 - val_loss: 0.0013 - val_root_mean_squared_error: 0.0360\n",
      "328/328 [==============================] - 4s 10ms/step - loss: 0.0053 - root_mean_squared_error: 0.0725\n",
      "Incorporated net, acc: 0.072472, net: [LSTM(30,sigmoid), D(0.300000), LSTM(20,leaky_relu), FC(30, tanh), D(0.400000), TERMINATE]\n",
      "[RNN(30,leaky_relu), LSTM(30,tanh), TERMINATE]\n",
      "1059/1059 [==============================] - 39s 35ms/step - loss: 0.0011 - root_mean_squared_error: 0.0336 - val_loss: 0.0010 - val_root_mean_squared_error: 0.0319\n",
      "328/328 [==============================] - 3s 9ms/step - loss: 0.0043 - root_mean_squared_error: 0.0659\n",
      "Incorporated net, acc: 0.065860, net: [RNN(30,leaky_relu), LSTM(30,tanh), TERMINATE]\n",
      "[LSTM(20,relu), FC(30, relu), D(0.300000), TERMINATE]\n",
      "1059/1059 [==============================] - 20s 18ms/step - loss: 0.0012 - root_mean_squared_error: 0.0344 - val_loss: 0.0011 - val_root_mean_squared_error: 0.0326\n",
      "328/328 [==============================] - 2s 6ms/step - loss: 0.0045 - root_mean_squared_error: 0.0669\n",
      "Incorporated net, acc: 0.066874, net: [LSTM(20,relu), FC(30, relu), D(0.300000), TERMINATE]\n",
      "[GRU(20,tanh), D(0.300000), LSTM(30,leaky_relu), FC(10, tanh), D(0.500000), TERMINATE]\n",
      "1059/1059 [==============================] - 58s 52ms/step - loss: 0.0012 - root_mean_squared_error: 0.0347 - val_loss: 0.0011 - val_root_mean_squared_error: 0.0328\n",
      "328/328 [==============================] - 4s 10ms/step - loss: 0.0046 - root_mean_squared_error: 0.0676\n",
      "Incorporated net, acc: 0.067618, net: [GRU(20,tanh), D(0.300000), LSTM(30,leaky_relu), FC(10, tanh), D(0.500000), TERMINATE]\n",
      "[LSTM(10,tanh), LSTM(30,sigmoid), LSTM(30,leaky_relu), BILSTM(30,relu), TERMINATE]\n",
      "1059/1059 [==============================] - 120s 108ms/step - loss: 0.0013 - root_mean_squared_error: 0.0358 - val_loss: 0.0012 - val_root_mean_squared_error: 0.0345\n",
      "328/328 [==============================] - 9s 24ms/step - loss: 0.0049 - root_mean_squared_error: 0.0699\n",
      "Incorporated net, acc: 0.069860, net: [LSTM(10,tanh), LSTM(30,sigmoid), LSTM(30,leaky_relu), BILSTM(30,relu), TERMINATE]\n",
      "[RNN(20,tanh), BILSTM(30,relu), BILSTM(30,leaky_relu), LSTM(30,tanh), TERMINATE]\n",
      "1059/1059 [==============================] - 132s 118ms/step - loss: 0.0011 - root_mean_squared_error: 0.0329 - val_loss: 9.6965e-04 - val_root_mean_squared_error: 0.0311\n",
      "328/328 [==============================] - 9s 25ms/step - loss: 0.0046 - root_mean_squared_error: 0.0676\n",
      "Incorporated net, acc: 0.067627, net: [RNN(20,tanh), BILSTM(30,relu), BILSTM(30,leaky_relu), LSTM(30,tanh), TERMINATE]\n",
      "[BILSTM(10,sigmoid), LSTM(10,leaky_relu), FC(20, sigmoid), TERMINATE]\n",
      "1059/1059 [==============================] - 50s 45ms/step - loss: 0.0249 - root_mean_squared_error: 0.1578 - val_loss: 0.0012 - val_root_mean_squared_error: 0.0350\n",
      "328/328 [==============================] - 4s 10ms/step - loss: 0.0051 - root_mean_squared_error: 0.0716\n",
      "Incorporated net, acc: 0.071644, net: [BILSTM(10,sigmoid), LSTM(10,leaky_relu), FC(20, sigmoid), TERMINATE]\n",
      "[GRU(30,leaky_relu), RNN(30,relu), FC(30, relu), TERMINATE]\n",
      "1059/1059 [==============================] - 38s 34ms/step - loss: 0.0012 - root_mean_squared_error: 0.0341 - val_loss: 0.0011 - val_root_mean_squared_error: 0.0327\n",
      "328/328 [==============================] - 3s 8ms/step - loss: 0.0045 - root_mean_squared_error: 0.0674\n",
      "Incorporated net, acc: 0.067444, net: [GRU(30,leaky_relu), RNN(30,relu), FC(30, relu), TERMINATE]\n",
      "[RNN(20,sigmoid), TERMINATE]\n",
      "1059/1059 [==============================] - 12s 10ms/step - loss: 0.0029 - root_mean_squared_error: 0.0540 - val_loss: 0.0013 - val_root_mean_squared_error: 0.0355\n",
      "328/328 [==============================] - 2s 4ms/step - loss: 0.0053 - root_mean_squared_error: 0.0726A: 0s - loss: 0.0053 - root_mean_squared_error: \n",
      "Incorporated net, acc: 0.072559, net: [RNN(20,sigmoid), TERMINATE]\n",
      "[GRU(20,sigmoid), RNN(10,sigmoid), RNN(20,relu), BILSTM(30,tanh), LSTM(30,sigmoid), TERMINATE]\n",
      "1059/1059 [==============================] - 111s 97ms/step - loss: 0.0013 - root_mean_squared_error: 0.0366 - val_loss: 0.0012 - val_root_mean_squared_error: 0.0351\n",
      "328/328 [==============================] - 10s 26ms/step - loss: 0.0052 - root_mean_squared_error: 0.0719\n",
      "Incorporated net, acc: 0.071916, net: [GRU(20,sigmoid), RNN(10,sigmoid), RNN(20,relu), BILSTM(30,tanh), LSTM(30,sigmoid), TERMINATE]\n",
      "[LSTM(30,leaky_relu), GRU(10,sigmoid), LSTM(30,tanh), RNN(20,leaky_relu), GRU(30,leaky_relu), GRU(30,tanh), TERMINATE]\n",
      "1059/1059 [==============================] - 140s 126ms/step - loss: 0.0019 - root_mean_squared_error: 0.0437 - val_loss: 0.0012 - val_root_mean_squared_error: 0.0350\n",
      "328/328 [==============================] - 9s 24ms/step - loss: 0.0051 - root_mean_squared_error: 0.0716\n",
      "Incorporated net, acc: 0.071606, net: [LSTM(30,leaky_relu), GRU(10,sigmoid), LSTM(30,tanh), RNN(20,leaky_relu), GRU(30,leaky_relu), GRU(30,tanh), TERMINATE]\n",
      "[GRU(30,tanh), BILSTM(30,relu), TERMINATE]\n",
      "1059/1059 [==============================] - 75s 68ms/step - loss: 0.0011 - root_mean_squared_error: 0.0337 - val_loss: 0.0010 - val_root_mean_squared_error: 0.0319\n",
      "328/328 [==============================] - 5s 13ms/step - loss: 0.0043 - root_mean_squared_error: 0.0659\n",
      "Incorporated net, acc: 0.065878, net: [GRU(30,tanh), BILSTM(30,relu), TERMINATE]\n",
      "[RNN(10,tanh), D(0.300000), BILSTM(20,leaky_relu), GRU(10,sigmoid), TERMINATE]\n",
      "1059/1059 [==============================] - 77s 68ms/step - loss: 0.0185 - root_mean_squared_error: 0.1362 - val_loss: 0.0012 - val_root_mean_squared_error: 0.0352\n",
      "328/328 [==============================] - 5s 12ms/step - loss: 0.0052 - root_mean_squared_error: 0.0719\n",
      "Incorporated net, acc: 0.071894, net: [RNN(10,tanh), D(0.300000), BILSTM(20,leaky_relu), GRU(10,sigmoid), TERMINATE]\n",
      "[GRU(30,leaky_relu), GRU(20,relu), LSTM(30,leaky_relu), D(0.100000), LSTM(20,leaky_relu), BILSTM(20,relu), TERMINATE]\n",
      "1059/1059 [==============================] - 148s 133ms/step - loss: 0.0012 - root_mean_squared_error: 0.0351 - val_loss: 0.0012 - val_root_mean_squared_error: 0.0341\n",
      "328/328 [==============================] - 9s 23ms/step - loss: 0.0047 - root_mean_squared_error: 0.0687\n",
      "Incorporated net, acc: 0.068671, net: [GRU(30,leaky_relu), GRU(20,relu), LSTM(30,leaky_relu), D(0.100000), LSTM(20,leaky_relu), BILSTM(20,relu), TERMINATE]\n",
      "[LSTM(30,relu), FC(20, relu), D(0.300000), TERMINATE]\n",
      "1059/1059 [==============================] - 26s 23ms/step - loss: 0.0012 - root_mean_squared_error: 0.0347 - val_loss: 0.0011 - val_root_mean_squared_error: 0.0328\n",
      "328/328 [==============================] - 2s 6ms/step - loss: 0.0046 - root_mean_squared_error: 0.0676\n",
      "Incorporated net, acc: 0.067599, net: [LSTM(30,relu), FC(20, relu), D(0.300000), TERMINATE]\n",
      "[BILSTM(20,relu), RNN(30,tanh), BILSTM(30,tanh), D(0.400000), TERMINATE]\n",
      "1059/1059 [==============================] - 85s 75ms/step - loss: 0.0011 - root_mean_squared_error: 0.0333 - val_loss: 9.5973e-04 - val_root_mean_squared_error: 0.0310\n",
      "328/328 [==============================] - 8s 20ms/step - loss: 0.0045 - root_mean_squared_error: 0.0672\n",
      "Incorporated net, acc: 0.067218, net: [BILSTM(20,relu), RNN(30,tanh), BILSTM(30,tanh), D(0.400000), TERMINATE]\n",
      "[BILSTM(20,relu), BILSTM(10,leaky_relu), D(0.100000), GRU(20,tanh), TERMINATE]\n",
      "1059/1059 [==============================] - 94s 82ms/step - loss: 0.0012 - root_mean_squared_error: 0.0342 - val_loss: 0.0011 - val_root_mean_squared_error: 0.0327\n",
      "328/328 [==============================] - 6s 15ms/step - loss: 0.0045 - root_mean_squared_error: 0.0669\n",
      "Incorporated net, acc: 0.066920, net: [BILSTM(20,relu), BILSTM(10,leaky_relu), D(0.100000), GRU(20,tanh), TERMINATE]\n",
      "[GRU(10,sigmoid), FC(10, leaky_relu), TERMINATE]\n"
     ]
    },
    {
     "name": "stdout",
     "output_type": "stream",
     "text": [
      "1059/1059 [==============================] - 21s 19ms/step - loss: 0.0117 - root_mean_squared_error: 0.1080 - val_loss: 0.0012 - val_root_mean_squared_error: 0.0345\n",
      "328/328 [==============================] - 2s 6ms/step - loss: 0.0050 - root_mean_squared_error: 0.0709\n",
      "Incorporated net, acc: 0.070916, net: [GRU(10,sigmoid), FC(10, leaky_relu), TERMINATE]\n",
      "[LSTM(10,leaky_relu), D(0.400000), TERMINATE]\n",
      "1059/1059 [==============================] - 19s 17ms/step - loss: 0.0013 - root_mean_squared_error: 0.0357 - val_loss: 0.0011 - val_root_mean_squared_error: 0.0338\n",
      "328/328 [==============================] - 2s 5ms/step - loss: 0.0049 - root_mean_squared_error: 0.0698\n",
      "Incorporated net, acc: 0.069819, net: [LSTM(10,leaky_relu), D(0.400000), TERMINATE]\n",
      "[BILSTM(10,leaky_relu), TERMINATE]\n",
      "1059/1059 [==============================] - 30s 26ms/step - loss: 0.0012 - root_mean_squared_error: 0.0353 - val_loss: 0.0011 - val_root_mean_squared_error: 0.0333\n",
      "328/328 [==============================] - 2s 6ms/step - loss: 0.0048 - root_mean_squared_error: 0.0692\n",
      "Incorporated net, acc: 0.069156, net: [BILSTM(10,leaky_relu), TERMINATE]\n",
      "[BILSTM(30,leaky_relu), TERMINATE]\n",
      "1059/1059 [==============================] - 39s 34ms/step - loss: 0.0011 - root_mean_squared_error: 0.0335 - val_loss: 0.0010 - val_root_mean_squared_error: 0.0319\n",
      "328/328 [==============================] - 3s 8ms/step - loss: 0.0043 - root_mean_squared_error: 0.0654\n",
      "Incorporated net, acc: 0.065419, net: [BILSTM(30,leaky_relu), TERMINATE]\n",
      "[LSTM(10,leaky_relu), RNN(10,relu), BILSTM(30,relu), RNN(10,leaky_relu), LSTM(30,sigmoid), TERMINATE]\n",
      "1059/1059 [==============================] - 102s 91ms/step - loss: 0.0022 - root_mean_squared_error: 0.0473 - val_loss: 0.0011 - val_root_mean_squared_error: 0.0334\n",
      "328/328 [==============================] - 7s 19ms/step - loss: 0.0046 - root_mean_squared_error: 0.0675\n",
      "Incorporated net, acc: 0.067539, net: [LSTM(10,leaky_relu), RNN(10,relu), BILSTM(30,relu), RNN(10,leaky_relu), LSTM(30,sigmoid), TERMINATE]\n",
      "[GRU(10,relu), D(0.400000), TERMINATE]\n",
      "1059/1059 [==============================] - 21s 19ms/step - loss: 0.0013 - root_mean_squared_error: 0.0361 - val_loss: 0.0011 - val_root_mean_squared_error: 0.0339\n",
      "328/328 [==============================] - 2s 5ms/step - loss: 0.0048 - root_mean_squared_error: 0.0695\n",
      "Incorporated net, acc: 0.069514, net: [GRU(10,relu), D(0.400000), TERMINATE]\n",
      "[BILSTM(30,leaky_relu), GRU(10,relu), LSTM(20,leaky_relu), LSTM(30,leaky_relu), TERMINATE]\n",
      "1059/1059 [==============================] - 112s 101ms/step - loss: 0.0012 - root_mean_squared_error: 0.0345 - val_loss: 0.0011 - val_root_mean_squared_error: 0.0328\n",
      "328/328 [==============================] - 9s 24ms/step - loss: 0.0045 - root_mean_squared_error: 0.0668\n",
      "Incorporated net, acc: 0.066816, net: [BILSTM(30,leaky_relu), GRU(10,relu), LSTM(20,leaky_relu), LSTM(30,leaky_relu), TERMINATE]\n",
      "[LSTM(20,sigmoid), D(0.500000), FC(20, relu), D(0.100000), TERMINATE]\n",
      "1059/1059 [==============================] - 27s 25ms/step - loss: 0.0278 - root_mean_squared_error: 0.1668 - val_loss: 0.0013 - val_root_mean_squared_error: 0.0356\n",
      "328/328 [==============================] - 2s 6ms/step - loss: 0.0052 - root_mean_squared_error: 0.0724\n",
      "Incorporated net, acc: 0.072438, net: [LSTM(20,sigmoid), D(0.500000), FC(20, relu), D(0.100000), TERMINATE]\n",
      "[GRU(30,relu), LSTM(10,leaky_relu), D(0.200000), TERMINATE]\n",
      "1059/1059 [==============================] - 62s 53ms/step - loss: 0.0012 - root_mean_squared_error: 0.0347 - val_loss: 0.0011 - val_root_mean_squared_error: 0.0330\n",
      "328/328 [==============================] - 3s 9ms/step - loss: 0.0046 - root_mean_squared_error: 0.0677\n",
      "Incorporated net, acc: 0.067716, net: [GRU(30,relu), LSTM(10,leaky_relu), D(0.200000), TERMINATE]\n",
      "[LSTM(30,relu), D(0.400000), FC(20, tanh), TERMINATE]\n",
      "1059/1059 [==============================] - 30s 28ms/step - loss: 0.0012 - root_mean_squared_error: 0.0341 - val_loss: 0.0011 - val_root_mean_squared_error: 0.0326\n",
      "328/328 [==============================] - 3s 9ms/step - loss: 0.0044 - root_mean_squared_error: 0.0667\n",
      "Incorporated net, acc: 0.066683, net: [LSTM(30,relu), D(0.400000), FC(20, tanh), TERMINATE]\n",
      "[LSTM(20,relu), D(0.500000), TERMINATE]\n",
      "1059/1059 [==============================] - 23s 20ms/step - loss: 0.0013 - root_mean_squared_error: 0.0358 - val_loss: 0.0011 - val_root_mean_squared_error: 0.0335\n",
      "328/328 [==============================] - 2s 6ms/step - loss: 0.0047 - root_mean_squared_error: 0.0687\n",
      "Incorporated net, acc: 0.068681, net: [LSTM(20,relu), D(0.500000), TERMINATE]\n",
      "[GRU(30,tanh), D(0.100000), FC(10, leaky_relu), D(0.400000), TERMINATE]\n",
      "1059/1059 [==============================] - 36s 31ms/step - loss: 0.0012 - root_mean_squared_error: 0.0347 - val_loss: 0.0011 - val_root_mean_squared_error: 0.0330\n",
      "328/328 [==============================] - 3s 6ms/step - loss: 0.0046 - root_mean_squared_error: 0.0680\n",
      "Incorporated net, acc: 0.067989, net: [GRU(30,tanh), D(0.100000), FC(10, leaky_relu), D(0.400000), TERMINATE]\n",
      "[LSTM(20,tanh), GRU(10,relu), D(0.100000), LSTM(20,leaky_relu), RNN(30,sigmoid), RNN(20,sigmoid), TERMINATE]\n",
      "1059/1059 [==============================] - 106s 94ms/step - loss: 0.0056 - root_mean_squared_error: 0.0750 - val_loss: 0.0012 - val_root_mean_squared_error: 0.0350\n",
      "328/328 [==============================] - 9s 23ms/step - loss: 0.0051 - root_mean_squared_error: 0.0713\n",
      "Incorporated net, acc: 0.071291, net: [LSTM(20,tanh), GRU(10,relu), D(0.100000), LSTM(20,leaky_relu), RNN(30,sigmoid), RNN(20,sigmoid), TERMINATE]\n",
      "[BILSTM(30,sigmoid), RNN(20,tanh), GRU(20,sigmoid), FC(10, relu), D(0.400000), TERMINATE]\n",
      "1059/1059 [==============================] - 81s 72ms/step - loss: 0.3275 - root_mean_squared_error: 0.5723 - val_loss: 0.0013 - val_root_mean_squared_error: 0.0354\n",
      "328/328 [==============================] - 6s 15ms/step - loss: 0.0052 - root_mean_squared_error: 0.0719\n",
      "Incorporated net, acc: 0.071880, net: [BILSTM(30,sigmoid), RNN(20,tanh), GRU(20,sigmoid), FC(10, relu), D(0.400000), TERMINATE]\n",
      "[GRU(30,relu), LSTM(20,tanh), BILSTM(10,leaky_relu), LSTM(10,leaky_relu), TERMINATE]\n",
      "1059/1059 [==============================] - 123s 109ms/step - loss: 0.0012 - root_mean_squared_error: 0.0346 - val_loss: 0.0011 - val_root_mean_squared_error: 0.0333\n",
      "328/328 [==============================] - 8s 20ms/step - loss: 0.0046 - root_mean_squared_error: 0.0677\n",
      "Incorporated net, acc: 0.067700, net: [GRU(30,relu), LSTM(20,tanh), BILSTM(10,leaky_relu), LSTM(10,leaky_relu), TERMINATE]\n",
      "[RNN(10,sigmoid), LSTM(20,relu), BILSTM(30,leaky_relu), TERMINATE]\n",
      "1059/1059 [==============================] - 102s 92ms/step - loss: 0.0014 - root_mean_squared_error: 0.0373 - val_loss: 0.0012 - val_root_mean_squared_error: 0.0351\n",
      "328/328 [==============================] - 10s 26ms/step - loss: 0.0052 - root_mean_squared_error: 0.0718\n",
      "Incorporated net, acc: 0.071844, net: [RNN(10,sigmoid), LSTM(20,relu), BILSTM(30,leaky_relu), TERMINATE]\n",
      "[LSTM(30,tanh), RNN(10,leaky_relu), FC(30, tanh), D(0.100000), TERMINATE]\n",
      "1059/1059 [==============================] - 48s 42ms/step - loss: 0.0012 - root_mean_squared_error: 0.0342 - val_loss: 0.0011 - val_root_mean_squared_error: 0.0327\n",
      "328/328 [==============================] - 4s 10ms/step - loss: 0.0044 - root_mean_squared_error: 0.0661\n",
      "Incorporated net, acc: 0.066090, net: [LSTM(30,tanh), RNN(10,leaky_relu), FC(30, tanh), D(0.100000), TERMINATE]\n",
      "[GRU(20,sigmoid), RNN(20,relu), LSTM(10,tanh), FC(30, leaky_relu), TERMINATE]\n",
      "1059/1059 [==============================] - 73s 65ms/step - loss: 0.0020 - root_mean_squared_error: 0.0451 - val_loss: 0.0012 - val_root_mean_squared_error: 0.0351\n",
      "328/328 [==============================] - 10s 22ms/step - loss: 0.0051 - root_mean_squared_error: 0.0717\n",
      "Incorporated net, acc: 0.071743, net: [GRU(20,sigmoid), RNN(20,relu), LSTM(10,tanh), FC(30, leaky_relu), TERMINATE]\n",
      "[GRU(10,sigmoid), RNN(30,leaky_relu), RNN(10,leaky_relu), BILSTM(30,relu), GRU(10,leaky_relu), TERMINATE]\n",
      "1059/1059 [==============================] - 163s 141ms/step - loss: 0.0013 - root_mean_squared_error: 0.0360 - val_loss: 0.0012 - val_root_mean_squared_error: 0.0352\n"
     ]
    },
    {
     "name": "stdout",
     "output_type": "stream",
     "text": [
      "328/328 [==============================] - 10s 28ms/step - loss: 0.0052 - root_mean_squared_error: 0.0720\n",
      "Incorporated net, acc: 0.071983, net: [GRU(10,sigmoid), RNN(30,leaky_relu), RNN(10,leaky_relu), BILSTM(30,relu), GRU(10,leaky_relu), TERMINATE]\n",
      "[LSTM(30,sigmoid), BILSTM(30,tanh), TERMINATE]\n",
      "1059/1059 [==============================] - 92s 80ms/step - loss: 0.0016 - root_mean_squared_error: 0.0406 - val_loss: 0.0012 - val_root_mean_squared_error: 0.0349\n",
      "328/328 [==============================] - 7s 17ms/step - loss: 0.0051 - root_mean_squared_error: 0.0716\n",
      "Incorporated net, acc: 0.071564, net: [LSTM(30,sigmoid), BILSTM(30,tanh), TERMINATE]\n",
      "[LSTM(30,leaky_relu), TERMINATE]\n",
      "1059/1059 [==============================] - 42s 37ms/step - loss: 0.0012 - root_mean_squared_error: 0.0342 - val_loss: 0.0011 - val_root_mean_squared_error: 0.0327\n",
      "328/328 [==============================] - 3s 9ms/step - loss: 0.0044 - root_mean_squared_error: 0.0666\n",
      "Incorporated net, acc: 0.066624, net: [LSTM(30,leaky_relu), TERMINATE]\n",
      "[GRU(30,leaky_relu), TERMINATE]\n",
      "1059/1059 [==============================] - 38s 34ms/step - loss: 0.0012 - root_mean_squared_error: 0.0339 - val_loss: 0.0011 - val_root_mean_squared_error: 0.0327\n",
      "328/328 [==============================] - 3s 9ms/step - loss: 0.0044 - root_mean_squared_error: 0.0665\n",
      "Incorporated net, acc: 0.066534, net: [GRU(30,leaky_relu), TERMINATE]\n",
      "[BILSTM(10,tanh), FC(30, leaky_relu), TERMINATE]\n",
      "1059/1059 [==============================] - 47s 39ms/step - loss: 0.0012 - root_mean_squared_error: 0.0343 - val_loss: 0.0010 - val_root_mean_squared_error: 0.0322\n",
      "328/328 [==============================] - 3s 7ms/step - loss: 0.0044 - root_mean_squared_error: 0.0662\n",
      "Incorporated net, acc: 0.066159, net: [BILSTM(10,tanh), FC(30, leaky_relu), TERMINATE]\n",
      "[LSTM(10,tanh), D(0.100000), LSTM(30,leaky_relu), D(0.400000), GRU(10,sigmoid), D(0.200000), TERMINATE]\n",
      "1059/1059 [==============================] - 73s 64ms/step - loss: 0.0394 - root_mean_squared_error: 0.1985 - val_loss: 0.0015 - val_root_mean_squared_error: 0.0386\n",
      "328/328 [==============================] - 5s 13ms/step - loss: 0.0055 - root_mean_squared_error: 0.0743\n",
      "Incorporated net, acc: 0.074283, net: [LSTM(10,tanh), D(0.100000), LSTM(30,leaky_relu), D(0.400000), GRU(10,sigmoid), D(0.200000), TERMINATE]\n",
      "[LSTM(10,leaky_relu), BILSTM(30,leaky_relu), GRU(30,relu), TERMINATE]\n",
      "1059/1059 [==============================] - 88s 79ms/step - loss: 0.0012 - root_mean_squared_error: 0.0343 - val_loss: 0.0011 - val_root_mean_squared_error: 0.0330\n",
      "328/328 [==============================] - 5s 15ms/step - loss: 0.0045 - root_mean_squared_error: 0.0673\n",
      "Incorporated net, acc: 0.067299, net: [LSTM(10,leaky_relu), BILSTM(30,leaky_relu), GRU(30,relu), TERMINATE]\n",
      "[GRU(30,leaky_relu), RNN(20,tanh), FC(10, tanh), D(0.200000), TERMINATE]\n",
      "1059/1059 [==============================] - 39s 35ms/step - loss: 0.0012 - root_mean_squared_error: 0.0350 - val_loss: 0.0010 - val_root_mean_squared_error: 0.0319\n",
      "328/328 [==============================] - 3s 8ms/step - loss: 0.0045 - root_mean_squared_error: 0.0674\n",
      "Incorporated net, acc: 0.067359, net: [GRU(30,leaky_relu), RNN(20,tanh), FC(10, tanh), D(0.200000), TERMINATE]\n",
      "[GRU(30,relu), D(0.400000), RNN(20,sigmoid), TERMINATE]\n",
      "1059/1059 [==============================] - 38s 34ms/step - loss: 0.0986 - root_mean_squared_error: 0.3140 - val_loss: 0.0011 - val_root_mean_squared_error: 0.0337\n",
      "328/328 [==============================] - 3s 8ms/step - loss: 0.0044 - root_mean_squared_error: 0.0662\n",
      "Incorporated net, acc: 0.066196, net: [GRU(30,relu), D(0.400000), RNN(20,sigmoid), TERMINATE]\n",
      "[RNN(20,sigmoid), D(0.100000), LSTM(10,sigmoid), D(0.300000), GRU(10,tanh), LSTM(30,tanh), TERMINATE]\n",
      "1059/1059 [==============================] - 85s 76ms/step - loss: 0.0015 - root_mean_squared_error: 0.0382 - val_loss: 0.0012 - val_root_mean_squared_error: 0.0353\n",
      "328/328 [==============================] - 6s 15ms/step - loss: 0.0052 - root_mean_squared_error: 0.0719\n",
      "Incorporated net, acc: 0.071874, net: [RNN(20,sigmoid), D(0.100000), LSTM(10,sigmoid), D(0.300000), GRU(10,tanh), LSTM(30,tanh), TERMINATE]\n",
      "[RNN(10,relu), RNN(10,leaky_relu), D(0.400000), BILSTM(20,leaky_relu), BILSTM(10,sigmoid), TERMINATE]\n",
      "1059/1059 [==============================] - 93s 82ms/step - loss: 0.0012 - root_mean_squared_error: 0.0345 - val_loss: 0.0010 - val_root_mean_squared_error: 0.0321\n",
      "328/328 [==============================] - 6s 17ms/step - loss: 0.0046 - root_mean_squared_error: 0.0676\n",
      "Incorporated net, acc: 0.067603, net: [RNN(10,relu), RNN(10,leaky_relu), D(0.400000), BILSTM(20,leaky_relu), BILSTM(10,sigmoid), TERMINATE]\n",
      "[GRU(10,tanh), D(0.500000), RNN(10,tanh), BILSTM(10,tanh), RNN(10,tanh), TERMINATE]\n",
      "1059/1059 [==============================] - 78s 67ms/step - loss: 0.0017 - root_mean_squared_error: 0.0418 - val_loss: 0.0012 - val_root_mean_squared_error: 0.0341\n",
      "328/328 [==============================] - 6s 14ms/step - loss: 0.0047 - root_mean_squared_error: 0.0686\n",
      "Incorporated net, acc: 0.068567, net: [GRU(10,tanh), D(0.500000), RNN(10,tanh), BILSTM(10,tanh), RNN(10,tanh), TERMINATE]\n",
      "[BILSTM(30,relu), LSTM(30,relu), D(0.400000), BILSTM(10,relu), TERMINATE]\n",
      "1059/1059 [==============================] - 101s 91ms/step - loss: 0.0012 - root_mean_squared_error: 0.0342 - val_loss: 0.0011 - val_root_mean_squared_error: 0.0326\n",
      "328/328 [==============================] - 8s 21ms/step - loss: 0.0044 - root_mean_squared_error: 0.0667\n",
      "Incorporated net, acc: 0.066654, net: [BILSTM(30,relu), LSTM(30,relu), D(0.400000), BILSTM(10,relu), TERMINATE]\n",
      "[LSTM(20,relu), TERMINATE]\n",
      "1059/1059 [==============================] - 22s 19ms/step - loss: 0.0011 - root_mean_squared_error: 0.0339 - val_loss: 0.0011 - val_root_mean_squared_error: 0.0327\n",
      "328/328 [==============================] - 2s 6ms/step - loss: 0.0044 - root_mean_squared_error: 0.0667\n",
      "Incorporated net, acc: 0.066705, net: [LSTM(20,relu), TERMINATE]\n"
     ]
    }
   ],
   "source": [
    "'''\n",
    "At each iteration, gets loss, RMSE and accuracy, then stores the trained network to replay database for future use\n",
    "Training stops when the monitored 'val_loss' has stopped improving.\n",
    "'''\n",
    "for runtimes in range(50):\n",
    "    net, i = factory.generate_new_network()\n",
    "    print(net)\n",
    "    p= netparser.parse('net', net)\n",
    "    newnet = netparser.parse_network_structure(p)\n",
    "    model = keras.Sequential(newnet)\n",
    "    \n",
    "    callback = keras.callbacks.EarlyStopping(monitor='val_loss', patience=3, restore_best_weights = True)\n",
    "    model.compile(\n",
    "                optimizer=keras.optimizers.Adam(learning_rate=1e-4),\n",
    "                loss='mean_squared_error',\n",
    "                metrics=[keras.metrics.RootMeanSquaredError()]\n",
    "            )\n",
    "    \n",
    "    history = model.fit(x_train, y_train, batch_size = 40, epochs =1, callbacks=[callback], validation_data=(x_val, y_val))\n",
    "    \n",
    "    bestval = model.evaluate(x_val, y_val)[1]\n",
    "    \n",
    "    factory.incorporate_trained_net(net, bestval, 1, [i])"
   ]
  },
  {
   "cell_type": "markdown",
   "id": "dcdd225b",
   "metadata": {},
   "source": [
    "## Step by Step Running"
   ]
  },
  {
   "cell_type": "code",
   "execution_count": 92,
   "id": "c2c1d5a7",
   "metadata": {},
   "outputs": [
    {
     "name": "stdout",
     "output_type": "stream",
     "text": [
      "[RNN(100,sigmoid), GRU(100,tanh), LSTM(200,linear), FC(50, relu), TERMINATE]\n"
     ]
    }
   ],
   "source": [
    "net, i = factory.generate_new_network()\n",
    "print(net)"
   ]
  },
  {
   "cell_type": "code",
   "execution_count": 121,
   "id": "34e3b4db",
   "metadata": {},
   "outputs": [],
   "source": [
    "p= netparser.parse('net', net)\n",
    "newnet = netparser.parse_network_structure(p)"
   ]
  },
  {
   "cell_type": "code",
   "execution_count": 122,
   "id": "1249a65e",
   "metadata": {},
   "outputs": [
    {
     "data": {
      "text/plain": [
       "[<keras.layers.recurrent.SimpleRNN at 0x201f6eb2a90>,\n",
       " <keras.layers.recurrent_v2.GRU at 0x201f6ebef40>,\n",
       " <keras.layers.recurrent_v2.LSTM at 0x201ed672310>,\n",
       " <keras.layers.core.Dense at 0x201ed6726d0>,\n",
       " <keras.layers.core.Dense at 0x20221112ac0>]"
      ]
     },
     "execution_count": 122,
     "metadata": {},
     "output_type": "execute_result"
    }
   ],
   "source": [
    "newnet"
   ]
  },
  {
   "cell_type": "code",
   "execution_count": 128,
   "id": "bc6d5351",
   "metadata": {},
   "outputs": [],
   "source": [
    "model = keras.Sequential(newnet)"
   ]
  },
  {
   "cell_type": "code",
   "execution_count": 213,
   "id": "5d3dd8e7",
   "metadata": {},
   "outputs": [],
   "source": [
    "callback = keras.callbacks.EarlyStopping(monitor='val_loss', patience=3, restore_best_weights = True)"
   ]
  },
  {
   "cell_type": "code",
   "execution_count": 129,
   "id": "98d39c40",
   "metadata": {},
   "outputs": [],
   "source": [
    "model.compile(\n",
    "            optimizer=keras.optimizers.Adam(lr=1e-4),\n",
    "            loss='mean_squared_error',\n",
    "            metrics=[keras.metrics.RootMeanSquaredError()]\n",
    "        )"
   ]
  },
  {
   "cell_type": "code",
   "execution_count": 214,
   "id": "07db070d",
   "metadata": {},
   "outputs": [
    {
     "name": "stdout",
     "output_type": "stream",
     "text": [
      "1177/1177 [==============================] - 244s 208ms/step - loss: 0.0011 - root_mean_squared_error: 0.0328 - val_loss: 0.0049 - val_root_mean_squared_error: 0.0698\n"
     ]
    },
    {
     "data": {
      "text/plain": [
       "<keras.callbacks.History at 0x201e8f3e640>"
      ]
     },
     "execution_count": 214,
     "metadata": {},
     "output_type": "execute_result"
    }
   ],
   "source": [
    "model.fit(x_train, y_train, batch_size = 40, epochs =5, callbacks=[callback], validation_data=(x_val, y_val))"
   ]
  },
  {
   "cell_type": "code",
   "execution_count": 182,
   "id": "6c6168af",
   "metadata": {},
   "outputs": [
    {
     "name": "stdout",
     "output_type": "stream",
     "text": [
      "328/328 [==============================] - 14s 43ms/step - loss: 0.0045 - root_mean_squared_error: 0.0672\n"
     ]
    }
   ],
   "source": [
    "bestval = model.evaluate(x_test, y_test)[1]"
   ]
  },
  {
   "cell_type": "code",
   "execution_count": 61,
   "id": "ebd21eff",
   "metadata": {},
   "outputs": [
    {
     "name": "stdout",
     "output_type": "stream",
     "text": [
      "Incorporated net, acc: 0.069071, net: [GRU(100,linear), BILSTM(150,relu), FC(50, leaky_relu), FC(1, leaky_relu)]\n"
     ]
    }
   ],
   "source": [
    "factory.incorporate_trained_net(net, bestval, 1, [1])"
   ]
  },
  {
   "cell_type": "code",
   "execution_count": 62,
   "id": "47f23957",
   "metadata": {},
   "outputs": [
    {
     "data": {
      "text/html": [
       "<div>\n",
       "<style scoped>\n",
       "    .dataframe tbody tr th:only-of-type {\n",
       "        vertical-align: middle;\n",
       "    }\n",
       "\n",
       "    .dataframe tbody tr th {\n",
       "        vertical-align: top;\n",
       "    }\n",
       "\n",
       "    .dataframe thead th {\n",
       "        text-align: right;\n",
       "    }\n",
       "</style>\n",
       "<table border=\"1\" class=\"dataframe\">\n",
       "  <thead>\n",
       "    <tr style=\"text-align: right;\">\n",
       "      <th></th>\n",
       "      <th>net</th>\n",
       "      <th>accuracy_best_val</th>\n",
       "      <th>epsilon</th>\n",
       "      <th>iteration</th>\n",
       "    </tr>\n",
       "  </thead>\n",
       "  <tbody>\n",
       "    <tr>\n",
       "      <th>0</th>\n",
       "      <td>[GRU(100,linear), BILSTM(150,relu), FC(50, lea...</td>\n",
       "      <td>0.069071</td>\n",
       "      <td>1</td>\n",
       "      <td>1</td>\n",
       "    </tr>\n",
       "  </tbody>\n",
       "</table>\n",
       "</div>"
      ],
      "text/plain": [
       "                                                 net  accuracy_best_val  \\\n",
       "0  [GRU(100,linear), BILSTM(150,relu), FC(50, lea...           0.069071   \n",
       "\n",
       "  epsilon iteration  \n",
       "0       1         1  "
      ]
     },
     "execution_count": 62,
     "metadata": {},
     "output_type": "execute_result"
    }
   ],
   "source": [
    "factory.replay_dictionary"
   ]
  }
 ],
 "metadata": {
  "kernelspec": {
   "display_name": "Python 3 (ipykernel)",
   "language": "python",
   "name": "python3"
  },
  "language_info": {
   "codemirror_mode": {
    "name": "ipython",
    "version": 3
   },
   "file_extension": ".py",
   "mimetype": "text/x-python",
   "name": "python",
   "nbconvert_exporter": "python",
   "pygments_lexer": "ipython3",
   "version": "3.8.11"
  }
 },
 "nbformat": 4,
 "nbformat_minor": 5
}
