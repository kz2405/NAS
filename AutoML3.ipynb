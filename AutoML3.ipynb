{
 "cells": [
  {
   "cell_type": "markdown",
   "id": "b7481b84",
   "metadata": {},
   "source": [
    "## Import"
   ]
  },
  {
   "cell_type": "code",
   "execution_count": 1,
   "id": "fe5115a5",
   "metadata": {},
   "outputs": [],
   "source": [
    "import q_learner\n",
    "import state_string_utils as stringutils\n",
    "import state_enumerator as stateenum\n",
    "import NAS \n",
    "import netparser\n",
    "from tensorflow import keras\n",
    "import numpy as np\n",
    "import pandas as pd\n",
    "from tqdm import tqdm\n",
    "from dateutil.relativedelta import relativedelta\n",
    "from datetime import datetime\n",
    "import time\n",
    "import importlib\n",
    "import os"
   ]
  },
  {
   "cell_type": "markdown",
   "id": "c7479f6e",
   "metadata": {},
   "source": [
    "## Loading Data"
   ]
  },
  {
   "cell_type": "code",
   "execution_count": 2,
   "id": "db546748",
   "metadata": {},
   "outputs": [],
   "source": [
    "feat_window = 90\n",
    "\n",
    "# performance measures window: number of years\n",
    "pm_window = 3\n",
    "lb_window = int(3 * pm_window * 365.25) + 1\n",
    "\n",
    "# Window length between training samples: number of days\n",
    "sample_window = 30\n",
    "\n",
    "# test period start\n",
    "test_start_date = '2020-06-30'\n",
    "\n",
    "# filepath\n",
    "filepath = '/Users/kz_ke/Documents/Masters/Classes/DL/WM-SecuritySelection-main/data/MF_LargeCap_ExcessReturn_3Y.parquet'"
   ]
  },
  {
   "cell_type": "code",
   "execution_count": 3,
   "id": "7b49e722",
   "metadata": {},
   "outputs": [],
   "source": [
    "def prepare_data_for_er_ari(filepath, label_window=pm_window):\n",
    "    er_ari_df = pd.read_parquet(filepath)\n",
    "    \n",
    "\n",
    "    data_dict = {ticker: er_ari_df[ticker].dropna() for ticker in er_ari_df.columns}\n",
    "    tickers_to_remove = []\n",
    "    \n",
    "    label_dict = {}\n",
    "    for ticker, series in tqdm(data_dict.items()):\n",
    "        if series.isna().sum() == series.shape[0]:\n",
    "            tickers_to_remove += [ticker]\n",
    "            continue\n",
    "\n",
    "        last_date = series.index[-1] - relativedelta(years=pm_window)\n",
    "        if last_date <= series.index[0]:\n",
    "            tickers_to_remove.append(ticker)\n",
    "            continue\n",
    "\n",
    "        index = series.loc[:series.index[-1] - relativedelta(years=pm_window)].index\n",
    "        label_dict[ticker] = pd.Series([\n",
    "            series[date + relativedelta(years=pm_window)] for date in index\n",
    "        ], index=index)\n",
    "        \n",
    "    _ = [data_dict.pop(ticker) for ticker in tickers_to_remove]\n",
    "    \n",
    "    return data_dict, label_dict"
   ]
  },
  {
   "cell_type": "code",
   "execution_count": 4,
   "id": "ef0749db",
   "metadata": {},
   "outputs": [
    {
     "name": "stderr",
     "output_type": "stream",
     "text": [
      "100%|██████████████████████████████████████████████████████████████████████████████| 1330/1330 [04:45<00:00,  4.66it/s]"
     ]
    },
    {
     "name": "stdout",
     "output_type": "stream",
     "text": [
      "Wall time: 4min 48s\n"
     ]
    },
    {
     "name": "stderr",
     "output_type": "stream",
     "text": [
      "\n"
     ]
    }
   ],
   "source": [
    "%%time\n",
    "data_dict, label_dict = prepare_data_for_er_ari(filepath)"
   ]
  },
  {
   "cell_type": "code",
   "execution_count": 5,
   "id": "4ee096aa",
   "metadata": {},
   "outputs": [
    {
     "name": "stderr",
     "output_type": "stream",
     "text": [
      "100%|█████████████████████████████████████████████████████████████████████████████| 1130/1130 [00:09<00:00, 122.02it/s]"
     ]
    },
    {
     "name": "stdout",
     "output_type": "stream",
     "text": [
      "Wall time: 9.27 s\n"
     ]
    },
    {
     "name": "stderr",
     "output_type": "stream",
     "text": [
      "\n"
     ]
    }
   ],
   "source": [
    "%%time\n",
    "\n",
    "tickers = list(data_dict.keys())\n",
    "\n",
    "train_data = []\n",
    "train_labels = []\n",
    "\n",
    "test_data = []\n",
    "test_labels = []\n",
    "\n",
    "# test start date\n",
    "checkpoint = datetime.strptime(test_start_date, '%Y-%m-%d') - relativedelta(years=pm_window)\n",
    "\n",
    "for ticker in tqdm(tickers):    \n",
    "    label = label_dict[ticker]\n",
    "    if label.shape[0] == 0:\n",
    "        continue\n",
    "    ts = data_dict[ticker].loc[:label.index[-1]]\n",
    "\n",
    "    indices = [np.arange(i, i+lb_window, feat_window) for i in range(0, ts.shape[0] - lb_window + 1, sample_window)]\n",
    "    \n",
    "    temp_data = np.array([ts.iloc[sub_indices].values for sub_indices in indices])\n",
    "    if temp_data.shape[0] == 0:\n",
    "        continue\n",
    "    temp_labels = np.array([label.loc[ts.index[sub_indices[-1]]] for sub_indices in indices])\n",
    "    \n",
    "    train_indices = [idx for idx in range(temp_data.shape[0]) if ts.index[indices[idx][-1]] <= checkpoint]\n",
    "    test_indices = [idx for idx in range(temp_data.shape[0]) if ts.index[indices[idx][-1]] > checkpoint]\n",
    "    \n",
    "    train_data += [temp_data[train_indices]] \n",
    "    train_labels += [temp_labels[train_indices]]\n",
    "    \n",
    "    test_data += [temp_data[test_indices]] \n",
    "    test_labels += [temp_labels[test_indices]]\n",
    "\n"
   ]
  },
  {
   "cell_type": "code",
   "execution_count": 6,
   "id": "51566c75",
   "metadata": {},
   "outputs": [],
   "source": [
    "def reshape_input_data(x=None, y=None):\n",
    "    if x is not None:\n",
    "        if len(x.shape) == 2:\n",
    "            x = x.reshape(-1, 1, x.shape[1])\n",
    "        elif len(x.shape) == 3:\n",
    "            x = x.reshape(-1, x.shape[2], x.shape[1])\n",
    "        else:\n",
    "            raise ValueError('Invalid x shape: {}'.format(x.shape))\n",
    "\n",
    "    if y is not None:\n",
    "        if len(y.shape) == 1:\n",
    "            y = y.reshape(-1, 1)\n",
    "        elif len(y.shape) == 2:\n",
    "            pass\n",
    "        else:\n",
    "            raise ValueError('Invalid y shape: {}'.format(y.shape))\n",
    "\n",
    "    if x is None and y is None:\n",
    "        return None\n",
    "    elif x is None and y is not None:\n",
    "        return y\n",
    "    elif x is not None and y is None:\n",
    "        return x\n",
    "    else:\n",
    "        return x, y"
   ]
  },
  {
   "cell_type": "code",
   "execution_count": 7,
   "id": "f8e21c7a",
   "metadata": {},
   "outputs": [
    {
     "name": "stdout",
     "output_type": "stream",
     "text": [
      "Wall time: 14.7 ms\n"
     ]
    }
   ],
   "source": [
    "%%time\n",
    "x_train = np.concatenate(train_data)[:, :, np.newaxis]\n",
    "y_train = np.concatenate(train_labels)[:, np.newaxis]\n",
    "\n",
    "x_test = np.concatenate(test_data)[:, :, np.newaxis]\n",
    "y_test = np.concatenate(test_labels)"
   ]
  },
  {
   "cell_type": "code",
   "execution_count": 8,
   "id": "df079fae",
   "metadata": {},
   "outputs": [],
   "source": [
    "train_len = int(len(x_train) * 0.9)\n",
    "x_train, x_val = x_train[:train_len], x_train[train_len:]\n",
    "y_train, y_val = y_train[:train_len], y_train[train_len:]"
   ]
  },
  {
   "cell_type": "code",
   "execution_count": 9,
   "id": "8a72eb1f",
   "metadata": {},
   "outputs": [
    {
     "data": {
      "text/plain": [
       "(42346, 37, 1)"
      ]
     },
     "execution_count": 9,
     "metadata": {},
     "output_type": "execute_result"
    }
   ],
   "source": [
    "x_train.shape"
   ]
  },
  {
   "cell_type": "code",
   "execution_count": 10,
   "id": "9d95fbad",
   "metadata": {},
   "outputs": [
    {
     "data": {
      "text/plain": [
       "(4706, 37, 1)"
      ]
     },
     "execution_count": 10,
     "metadata": {},
     "output_type": "execute_result"
    }
   ],
   "source": [
    "x_val.shape"
   ]
  },
  {
   "cell_type": "markdown",
   "id": "484d73a9",
   "metadata": {},
   "source": [
    "## Running NAS"
   ]
  },
  {
   "cell_type": "code",
   "execution_count": 11,
   "id": "6eab1a94",
   "metadata": {},
   "outputs": [],
   "source": [
    "path = '/Users/kz_ke/Documents/Masters/Classes/DL/AutoML3/mylogs'\n",
    "isExist = os.path.exists(path)\n",
    "if not isExist:\n",
    "    os.makedirs(path)\n",
    "    print(\"The new directory is created!\")"
   ]
  },
  {
   "cell_type": "code",
   "execution_count": 12,
   "id": "83eee0b6",
   "metadata": {},
   "outputs": [],
   "source": [
    "_model = __import__('models.AutoML',\n",
    "                    globals(),\n",
    "                    locals(),\n",
    "                    ['state_space_parameters', 'hyper_parameters'], \n",
    "                    0)"
   ]
  },
  {
   "cell_type": "code",
   "execution_count": 18,
   "id": "0eed90c2",
   "metadata": {},
   "outputs": [],
   "source": [
    "epsilon=0.9"
   ]
  },
  {
   "cell_type": "code",
   "execution_count": 20,
   "id": "ebf2b3f6",
   "metadata": {
    "scrolled": true
   },
   "outputs": [
    {
     "name": "stdout",
     "output_type": "stream",
     "text": [
      "Found replay dictionary\n",
      "Found q values\n"
     ]
    }
   ],
   "source": [
    "factory = NAS.NAS('mylogs',\n",
    "                  _model.state_space_parameters,\n",
    "                  _model.hyper_parameters,\n",
    "                  epsilon,\n",
    "                  0.5)"
   ]
  },
  {
   "cell_type": "code",
   "execution_count": null,
   "id": "0ba7195b",
   "metadata": {},
   "outputs": [
    {
     "name": "stdout",
     "output_type": "stream",
     "text": [
      "[GRU(30,leaky_relu), GRU(10,tanh), GRU(20,sigmoid), TERMINATE]\n",
      "Epoch 1/100\n",
      "1059/1059 [==============================] - 87s 79ms/step - loss: 0.0012 - root_mean_squared_error: 0.0350 - val_loss: 0.0010 - val_root_mean_squared_error: 0.0321\n",
      "Epoch 2/100\n",
      "1059/1059 [==============================] - 90s 85ms/step - loss: 0.0012 - root_mean_squared_error: 0.0341 - val_loss: 9.7540e-04 - val_root_mean_squared_error: 0.0312\n",
      "Epoch 3/100\n",
      "1059/1059 [==============================] - 87s 82ms/step - loss: 0.0011 - root_mean_squared_error: 0.0339 - val_loss: 9.7382e-04 - val_root_mean_squared_error: 0.0312\n",
      "Epoch 4/100\n",
      "1059/1059 [==============================] - 85s 81ms/step - loss: 0.0011 - root_mean_squared_error: 0.0339 - val_loss: 9.7990e-04 - val_root_mean_squared_error: 0.0313\n",
      "Epoch 5/100\n",
      "1059/1059 [==============================] - 86s 81ms/step - loss: 0.0011 - root_mean_squared_error: 0.0338 - val_loss: 9.7722e-04 - val_root_mean_squared_error: 0.0313\n",
      "Epoch 6/100\n",
      "1059/1059 [==============================] - 85s 81ms/step - loss: 0.0011 - root_mean_squared_error: 0.0339 - val_loss: 9.9137e-04 - val_root_mean_squared_error: 0.0315\n",
      "Epoch 7/100\n",
      "1059/1059 [==============================] - 87s 82ms/step - loss: 0.0012 - root_mean_squared_error: 0.0339 - val_loss: 9.7456e-04 - val_root_mean_squared_error: 0.0312\n",
      "148/148 [==============================] - 2s 13ms/step - loss: 9.7382e-04 - root_mean_squared_error: 0.0312\n",
      "328/328 [==============================] - 5s 14ms/step - loss: 0.0045 - root_mean_squared_error: 0.0671\n",
      "0.06714463979005814\n",
      "Incorporated net, acc: 0.031206, net: [GRU(30,leaky_relu), GRU(10,tanh), GRU(20,sigmoid), TERMINATE]\n",
      "[GRU(20,leaky_relu), D(0.500000), LSTM(10,leaky_relu), FC(10, sigmoid), D(0.300000), TERMINATE]\n",
      "Epoch 1/100\n",
      "1059/1059 [==============================] - 61s 55ms/step - loss: 0.1167 - root_mean_squared_error: 0.3416 - val_loss: 0.0011 - val_root_mean_squared_error: 0.0330\n",
      "Epoch 2/100\n",
      "1059/1059 [==============================] - 74s 70ms/step - loss: 0.0016 - root_mean_squared_error: 0.0405 - val_loss: 0.0011 - val_root_mean_squared_error: 0.0327\n",
      "Epoch 3/100\n",
      "1059/1059 [==============================] - 58s 55ms/step - loss: 0.0015 - root_mean_squared_error: 0.0383 - val_loss: 0.0011 - val_root_mean_squared_error: 0.0326\n",
      "Epoch 4/100\n",
      "1059/1059 [==============================] - 61s 57ms/step - loss: 0.0014 - root_mean_squared_error: 0.0371 - val_loss: 0.0011 - val_root_mean_squared_error: 0.0327\n",
      "Epoch 5/100\n",
      "1059/1059 [==============================] - 69s 65ms/step - loss: 0.0013 - root_mean_squared_error: 0.0364 - val_loss: 0.0011 - val_root_mean_squared_error: 0.0327\n",
      "Epoch 6/100\n",
      "1059/1059 [==============================] - 61s 57ms/step - loss: 0.0013 - root_mean_squared_error: 0.0362 - val_loss: 0.0011 - val_root_mean_squared_error: 0.0328\n",
      "Epoch 7/100\n",
      "1059/1059 [==============================] - 63s 59ms/step - loss: 0.0013 - root_mean_squared_error: 0.0362 - val_loss: 0.0011 - val_root_mean_squared_error: 0.0329\n",
      "148/148 [==============================] - 1s 9ms/step - loss: 0.0011 - root_mean_squared_error: 0.0326\n",
      "328/328 [==============================] - 5s 14ms/step - loss: 0.0052 - root_mean_squared_error: 0.0722\n",
      "0.07220008224248886\n",
      "Incorporated net, acc: 0.032615, net: [GRU(20,leaky_relu), D(0.500000), LSTM(10,leaky_relu), FC(10, sigmoid), D(0.300000), TERMINATE]\n",
      "[RNN(10,leaky_relu), GRU(30,tanh), GRU(10,leaky_relu), TERMINATE]\n",
      "Epoch 1/100\n",
      "1059/1059 [==============================] - 72s 61ms/step - loss: 0.0011 - root_mean_squared_error: 0.0338 - val_loss: 9.9702e-04 - val_root_mean_squared_error: 0.0316\n",
      "Epoch 2/100\n",
      "1059/1059 [==============================] - 66s 63ms/step - loss: 0.0011 - root_mean_squared_error: 0.0331 - val_loss: 9.9796e-04 - val_root_mean_squared_error: 0.0316\n",
      "Epoch 3/100\n",
      "1059/1059 [==============================] - 67s 63ms/step - loss: 0.0011 - root_mean_squared_error: 0.0329 - val_loss: 0.0010 - val_root_mean_squared_error: 0.0317\n",
      "Epoch 4/100\n",
      "1059/1059 [==============================] - 68s 64ms/step - loss: 0.0011 - root_mean_squared_error: 0.0327 - val_loss: 9.7377e-04 - val_root_mean_squared_error: 0.0312\n",
      "Epoch 5/100\n",
      "1059/1059 [==============================] - 67s 63ms/step - loss: 0.0011 - root_mean_squared_error: 0.0326 - val_loss: 9.6698e-04 - val_root_mean_squared_error: 0.0311\n",
      "Epoch 6/100\n",
      "1059/1059 [==============================] - 68s 64ms/step - loss: 0.0010 - root_mean_squared_error: 0.0324 - val_loss: 9.5263e-04 - val_root_mean_squared_error: 0.0309\n",
      "Epoch 7/100\n",
      "1059/1059 [==============================] - 68s 64ms/step - loss: 0.0010 - root_mean_squared_error: 0.0322 - val_loss: 9.4757e-04 - val_root_mean_squared_error: 0.0308\n",
      "Epoch 8/100\n",
      "1059/1059 [==============================] - 68s 64ms/step - loss: 0.0010 - root_mean_squared_error: 0.0321 - val_loss: 9.3080e-04 - val_root_mean_squared_error: 0.0305\n",
      "Epoch 9/100\n",
      "1059/1059 [==============================] - 67s 63ms/step - loss: 0.0010 - root_mean_squared_error: 0.0320 - val_loss: 9.9541e-04 - val_root_mean_squared_error: 0.0316\n",
      "Epoch 10/100\n",
      "1059/1059 [==============================] - 71s 67ms/step - loss: 0.0010 - root_mean_squared_error: 0.0320 - val_loss: 9.3204e-04 - val_root_mean_squared_error: 0.0305\n",
      "Epoch 11/100\n",
      "1059/1059 [==============================] - 70s 66ms/step - loss: 0.0010 - root_mean_squared_error: 0.0320 - val_loss: 9.3305e-04 - val_root_mean_squared_error: 0.0305\n",
      "Epoch 12/100\n",
      "1059/1059 [==============================] - 68s 64ms/step - loss: 0.0010 - root_mean_squared_error: 0.0319 - val_loss: 9.1295e-04 - val_root_mean_squared_error: 0.0302\n",
      "Epoch 13/100\n",
      "1059/1059 [==============================] - 67s 64ms/step - loss: 0.0010 - root_mean_squared_error: 0.0319 - val_loss: 9.2393e-04 - val_root_mean_squared_error: 0.0304\n",
      "Epoch 14/100\n",
      "1059/1059 [==============================] - 68s 64ms/step - loss: 0.0010 - root_mean_squared_error: 0.0319 - val_loss: 9.1269e-04 - val_root_mean_squared_error: 0.0302\n",
      "Epoch 15/100\n",
      "1059/1059 [==============================] - 72s 68ms/step - loss: 0.0010 - root_mean_squared_error: 0.0319 - val_loss: 9.4219e-04 - val_root_mean_squared_error: 0.0307\n",
      "Epoch 16/100\n",
      "1059/1059 [==============================] - 71s 67ms/step - loss: 0.0010 - root_mean_squared_error: 0.0318 - val_loss: 9.2103e-04 - val_root_mean_squared_error: 0.0303\n",
      "Epoch 17/100\n",
      "1059/1059 [==============================] - 71s 67ms/step - loss: 0.0010 - root_mean_squared_error: 0.0318 - val_loss: 9.0593e-04 - val_root_mean_squared_error: 0.0301\n",
      "Epoch 18/100\n",
      "1059/1059 [==============================] - 69s 65ms/step - loss: 0.0010 - root_mean_squared_error: 0.0317 - val_loss: 9.1939e-04 - val_root_mean_squared_error: 0.0303\n",
      "Epoch 19/100\n",
      "1059/1059 [==============================] - 63s 59ms/step - loss: 0.0010 - root_mean_squared_error: 0.0317 - val_loss: 9.1925e-04 - val_root_mean_squared_error: 0.0303\n",
      "Epoch 20/100\n",
      "1059/1059 [==============================] - 64s 60ms/step - loss: 0.0010 - root_mean_squared_error: 0.0317 - val_loss: 9.6493e-04 - val_root_mean_squared_error: 0.0311\n",
      "Epoch 21/100\n",
      "1059/1059 [==============================] - 64s 60ms/step - loss: 0.0010 - root_mean_squared_error: 0.0316 - val_loss: 9.3682e-04 - val_root_mean_squared_error: 0.0306\n",
      "148/148 [==============================] - 2s 11ms/step - loss: 9.0593e-04 - root_mean_squared_error: 0.0301\n",
      "328/328 [==============================] - ETA: 0s - loss: 0.0047 - root_mean_squared_error: 0.068 - 4s 11ms/step - loss: 0.0047 - root_mean_squared_error: 0.0686\n",
      "0.06861590594053268\n",
      "Incorporated net, acc: 0.030099, net: [RNN(10,leaky_relu), GRU(30,tanh), GRU(10,leaky_relu), TERMINATE]\n",
      "[BILSTM(30,relu), FC(20, relu), D(0.200000), TERMINATE]\n",
      "Epoch 1/100\n",
      " 388/1059 [=========>....................] - ETA: 21s - loss: 0.0012 - root_mean_squared_error: 0.0348"
     ]
    }
   ],
   "source": [
    "for runtimes in range(73):\n",
    "    net, i = factory.generate_new_netork()\n",
    "    print(net)\n",
    "    p= netparser.parse('net', net)\n",
    "    newnet = netparser.parse_network_structure(p)\n",
    "    model = keras.Sequential(newnet)\n",
    "    \n",
    "    callback = keras.callbacks.EarlyStopping(monitor='val_loss', patience=4, restore_best_weights = True)\n",
    "    model.compile(\n",
    "                optimizer=keras.optimizers.Adam(learning_rate=1e-4),\n",
    "                loss='mean_squared_error',\n",
    "                metrics=[keras.metrics.RootMeanSquaredError()]\n",
    "            )\n",
    "    \n",
    "    history = model.fit(x_train, y_train, batch_size = 40, epochs = 100, callbacks=[callback], validation_data=(x_val, y_val))\n",
    "    \n",
    "    bestval = model.evaluate(x_val, y_val)[1]\n",
    "    print(model.evaluate(x_test, y_test)[1])\n",
    "    \n",
    "    factory.incorporate_trained_net(net, bestval, epsilon, [i])"
   ]
  },
  {
   "cell_type": "code",
   "execution_count": 16,
   "id": "cfe4d7db",
   "metadata": {},
   "outputs": [],
   "source": [
    "for i in range(10000):\n",
    "    factory.qlearner.sample_replay_for_update()"
   ]
  },
  {
   "cell_type": "markdown",
   "id": "dcdd225b",
   "metadata": {},
   "source": [
    "## Step by Step Running"
   ]
  },
  {
   "cell_type": "code",
   "execution_count": 92,
   "id": "c2c1d5a7",
   "metadata": {},
   "outputs": [
    {
     "name": "stdout",
     "output_type": "stream",
     "text": [
      "[RNN(100,sigmoid), GRU(100,tanh), LSTM(200,linear), FC(50, relu), TERMINATE]\n"
     ]
    }
   ],
   "source": [
    "net, i = factory.generate_new_netork()\n",
    "print(net)"
   ]
  },
  {
   "cell_type": "code",
   "execution_count": 121,
   "id": "34e3b4db",
   "metadata": {},
   "outputs": [],
   "source": [
    "p= netparser.parse('net', net)\n",
    "newnet = netparser.parse_network_structure(p)"
   ]
  },
  {
   "cell_type": "code",
   "execution_count": 122,
   "id": "1249a65e",
   "metadata": {},
   "outputs": [
    {
     "data": {
      "text/plain": [
       "[<keras.layers.recurrent.SimpleRNN at 0x201f6eb2a90>,\n",
       " <keras.layers.recurrent_v2.GRU at 0x201f6ebef40>,\n",
       " <keras.layers.recurrent_v2.LSTM at 0x201ed672310>,\n",
       " <keras.layers.core.Dense at 0x201ed6726d0>,\n",
       " <keras.layers.core.Dense at 0x20221112ac0>]"
      ]
     },
     "execution_count": 122,
     "metadata": {},
     "output_type": "execute_result"
    }
   ],
   "source": [
    "newnet"
   ]
  },
  {
   "cell_type": "code",
   "execution_count": 128,
   "id": "bc6d5351",
   "metadata": {},
   "outputs": [],
   "source": [
    "model = keras.Sequential(newnet)"
   ]
  },
  {
   "cell_type": "code",
   "execution_count": 213,
   "id": "5d3dd8e7",
   "metadata": {},
   "outputs": [],
   "source": [
    "callback = keras.callbacks.EarlyStopping(monitor='val_loss', patience=3, restore_best_weights = True)"
   ]
  },
  {
   "cell_type": "code",
   "execution_count": 129,
   "id": "98d39c40",
   "metadata": {},
   "outputs": [],
   "source": [
    "model.compile(\n",
    "            optimizer=keras.optimizers.Adam(lr=1e-4),\n",
    "            loss='mean_squared_error',\n",
    "            metrics=[keras.metrics.RootMeanSquaredError()]\n",
    "        )"
   ]
  },
  {
   "cell_type": "code",
   "execution_count": 214,
   "id": "07db070d",
   "metadata": {},
   "outputs": [
    {
     "name": "stdout",
     "output_type": "stream",
     "text": [
      "1177/1177 [==============================] - 244s 208ms/step - loss: 0.0011 - root_mean_squared_error: 0.0328 - val_loss: 0.0049 - val_root_mean_squared_error: 0.0698\n"
     ]
    },
    {
     "data": {
      "text/plain": [
       "<keras.callbacks.History at 0x201e8f3e640>"
      ]
     },
     "execution_count": 214,
     "metadata": {},
     "output_type": "execute_result"
    }
   ],
   "source": [
    "model.fit(x_train, y_train, batch_size = 40, epochs =5, callbacks=[callback], validation_data=(x_val, y_val))"
   ]
  },
  {
   "cell_type": "code",
   "execution_count": 182,
   "id": "6c6168af",
   "metadata": {},
   "outputs": [
    {
     "name": "stdout",
     "output_type": "stream",
     "text": [
      "328/328 [==============================] - 14s 43ms/step - loss: 0.0045 - root_mean_squared_error: 0.0672\n"
     ]
    }
   ],
   "source": [
    "bestval = model.evaluate(x_test, y_test)[1]"
   ]
  },
  {
   "cell_type": "code",
   "execution_count": 61,
   "id": "ebd21eff",
   "metadata": {},
   "outputs": [
    {
     "name": "stdout",
     "output_type": "stream",
     "text": [
      "Incorporated net, acc: 0.069071, net: [GRU(100,linear), BILSTM(150,relu), FC(50, leaky_relu), FC(1, leaky_relu)]\n"
     ]
    }
   ],
   "source": [
    "factory.incorporate_trained_net(net, bestval, 1, [1])"
   ]
  },
  {
   "cell_type": "code",
   "execution_count": 62,
   "id": "47f23957",
   "metadata": {},
   "outputs": [
    {
     "data": {
      "text/html": [
       "<div>\n",
       "<style scoped>\n",
       "    .dataframe tbody tr th:only-of-type {\n",
       "        vertical-align: middle;\n",
       "    }\n",
       "\n",
       "    .dataframe tbody tr th {\n",
       "        vertical-align: top;\n",
       "    }\n",
       "\n",
       "    .dataframe thead th {\n",
       "        text-align: right;\n",
       "    }\n",
       "</style>\n",
       "<table border=\"1\" class=\"dataframe\">\n",
       "  <thead>\n",
       "    <tr style=\"text-align: right;\">\n",
       "      <th></th>\n",
       "      <th>net</th>\n",
       "      <th>accuracy_best_val</th>\n",
       "      <th>epsilon</th>\n",
       "      <th>iteration</th>\n",
       "    </tr>\n",
       "  </thead>\n",
       "  <tbody>\n",
       "    <tr>\n",
       "      <th>0</th>\n",
       "      <td>[GRU(100,linear), BILSTM(150,relu), FC(50, lea...</td>\n",
       "      <td>0.069071</td>\n",
       "      <td>1</td>\n",
       "      <td>1</td>\n",
       "    </tr>\n",
       "  </tbody>\n",
       "</table>\n",
       "</div>"
      ],
      "text/plain": [
       "                                                 net  accuracy_best_val  \\\n",
       "0  [GRU(100,linear), BILSTM(150,relu), FC(50, lea...           0.069071   \n",
       "\n",
       "  epsilon iteration  \n",
       "0       1         1  "
      ]
     },
     "execution_count": 62,
     "metadata": {},
     "output_type": "execute_result"
    }
   ],
   "source": [
    "factory.replay_dictionary"
   ]
  }
 ],
 "metadata": {
  "kernelspec": {
   "display_name": "Python 3 (ipykernel)",
   "language": "python",
   "name": "python3"
  },
  "language_info": {
   "codemirror_mode": {
    "name": "ipython",
    "version": 3
   },
   "file_extension": ".py",
   "mimetype": "text/x-python",
   "name": "python",
   "nbconvert_exporter": "python",
   "pygments_lexer": "ipython3",
   "version": "3.8.11"
  }
 },
 "nbformat": 4,
 "nbformat_minor": 5
}
